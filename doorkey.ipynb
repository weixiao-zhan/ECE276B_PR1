{
 "cells": [
  {
   "cell_type": "code",
   "execution_count": null,
   "metadata": {},
   "outputs": [],
   "source": [
    "from utils import *\n",
    "from solver import *"
   ]
  },
  {
   "cell_type": "code",
   "execution_count": null,
   "metadata": {},
   "outputs": [],
   "source": [
    "Q1_PATHs = [\n",
    "            \"envs/known_envs/doorkey-5x5-normal\",\n",
    "            \"envs/known_envs/doorkey-6x6-direct\",\n",
    "            \"envs/known_envs/doorkey-6x6-normal\",\n",
    "            \"envs/known_envs/doorkey-6x6-shortcut\",\n",
    "            \"envs/known_envs/doorkey-8x8-direct\",\n",
    "            \"envs/known_envs/doorkey-8x8-normal\",\n",
    "            \"envs/known_envs/doorkey-8x8-shortcut\",\n",
    "            \"envs/known_envs/example-8x8\"]\n",
    "Q1_solvers = []\n",
    "\n",
    "for path_prefix in Q1_PATHs:\n",
    "    env, info = load_env(path_prefix+\".env\")\n",
    "    solver = DoorKeySolver_1(env, info) # had to pass in env for wall check\n",
    "    solver.solve()\n",
    "    Q1_solvers.append(solver)"
   ]
  },
  {
   "cell_type": "code",
   "execution_count": null,
   "metadata": {},
   "outputs": [],
   "source": [
    "Q2_solver = DoorKeySolver_2() \n",
    "Q2_solver.solve() "
   ]
  },
  {
   "cell_type": "code",
   "execution_count": null,
   "metadata": {},
   "outputs": [],
   "source": [
    "for name, solver in zip(Q1_PATHs, Q1_solvers):\n",
    "    t = list(solver.V_t.keys())\n",
    "    V_sizes = [len(solver.V_t[tt]) for tt in t]\n",
    "    t = [i-t[0] for i in t]\n",
    "    plt.plot(t, V_sizes, label=name[24:])\n",
    "\n",
    "plt.ylabel(\"# of states considered\")\n",
    "plt.xlabel(\"time step (t-T)\")\n",
    "plt.legend()\n",
    "plt.savefig(\"report/img/num_state_A\")\n",
    "plt.show()"
   ]
  },
  {
   "cell_type": "code",
   "execution_count": null,
   "metadata": {},
   "outputs": [],
   "source": [
    "t = list(Q2_solver.V_t.keys())\n",
    "V_sizes = [len(Q2_solver.V_t[tt]) for tt in t]\n",
    "t = [i-t[0] for i in t]\n",
    "plt.plot(t, V_sizes, label='random environment')\n",
    "\n",
    "for name, solver in zip(Q1_PATHs, Q1_solvers):\n",
    "    t = list(solver.V_t.keys())\n",
    "    V_sizes = [len(solver.V_t[tt]) for tt in t]\n",
    "    t = [i-t[0] for i in t]\n",
    "    plt.plot(t, V_sizes, color=\"grey\")\n",
    "plt.plot(t, V_sizes, label='known environments', color=\"grey\")\n",
    "\n",
    "\n",
    "plt.ylabel(\"# of states considered\")\n",
    "plt.xlabel(\"time step (t-T)\")\n",
    "plt.legend()\n",
    "plt.savefig(\"report/img/num_state_B\")\n",
    "plt.show()"
   ]
  },
  {
   "cell_type": "code",
   "execution_count": null,
   "metadata": {},
   "outputs": [],
   "source": [
    "solver = Q1_solvers[-2]\n",
    "_, seq = solver.query(solver.gen_init_state())\n",
    "name = Q1_PATHs[-2]\n",
    "\n",
    "for i, op in enumerate(seq):\n",
    "    plot_env(solver.env, f\"report/img/A-{i}\")\n",
    "    step(solver.env, op)\n",
    "plot_env(solver.env, f\"report/img/A-{i+1}\")"
   ]
  },
  {
   "cell_type": "code",
   "execution_count": null,
   "metadata": {},
   "outputs": [],
   "source": [
    "solver = Q1_solvers[1]\n",
    "_, seq = solver.query(solver.gen_init_state())\n",
    "name = Q1_PATHs[1]\n",
    "\n",
    "for i, op in enumerate(seq):\n",
    "    plot_env(solver.env, f\"report/img/C-{i}\")\n",
    "    step(solver.env, op)\n",
    "plot_env(solver.env, f\"report/img/C-{i+1}\")"
   ]
  },
  {
   "cell_type": "code",
   "execution_count": null,
   "metadata": {},
   "outputs": [],
   "source": [
    "env, info, path = load_one_random_env(\"envs/random_envs/DoorKey-8x8-14.env\")\n",
    "_, seq = Q2_solver.query(Q2_solver.gen_init_state(info))\n",
    "\n",
    "for i, op in enumerate(seq):\n",
    "    plot_env(env, f\"report/img/B-{i}\")\n",
    "    step(env, op)\n",
    "plot_env(env, f\"report/img/B-{i+1}\")"
   ]
  }
 ],
 "metadata": {
  "kernelspec": {
   "display_name": "base",
   "language": "python",
   "name": "python3"
  },
  "language_info": {
   "codemirror_mode": {
    "name": "ipython",
    "version": 3
   },
   "file_extension": ".py",
   "mimetype": "text/x-python",
   "name": "python",
   "nbconvert_exporter": "python",
   "pygments_lexer": "ipython3",
   "version": "3.12.2"
  }
 },
 "nbformat": 4,
 "nbformat_minor": 2
}
